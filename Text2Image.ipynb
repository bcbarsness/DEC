{
 "cells": [
  {
   "cell_type": "code",
   "execution_count": null,
   "metadata": {},
   "outputs": [],
   "source": [
    "from PIL import Image, ImageDraw, ImageFont"
   ]
  },
  {
   "cell_type": "markdown",
   "metadata": {},
   "source": [
    "## Test text to image conversion"
   ]
  },
  {
   "cell_type": "code",
   "execution_count": null,
   "metadata": {},
   "outputs": [],
   "source": [
    "mystr = \"\"\"asdflkjl;kj\n",
    "\n",
    "asdflkj\n",
    "asdflkj\n",
    "asdfl;kjasdflkj\n",
    "    asdflkj\n",
    "\"\"\""
   ]
  },
  {
   "cell_type": "code",
   "execution_count": null,
   "metadata": {},
   "outputs": [],
   "source": [
    "img = Image.new('L', (100,100), (255))\n",
    "#img = Image.new('RGB', (100, 100),(255,255,255))\n",
    "d = ImageDraw.Draw(img)\n",
    "d.text((0,0),mystr)\n",
    "#d.text((0,0),mystr, fill(0,0,0))"
   ]
  },
  {
   "cell_type": "code",
   "execution_count": null,
   "metadata": {},
   "outputs": [],
   "source": [
    "fh = open(\"imageToSave.png\", \"wb\")\n",
    "img.save(fh)\n",
    "fh.close()"
   ]
  },
  {
   "cell_type": "markdown",
   "metadata": {},
   "source": [
    "## Convert full set data to images"
   ]
  },
  {
   "cell_type": "code",
   "execution_count": null,
   "metadata": {},
   "outputs": [],
   "source": [
    "import pandas as pd\n",
    "import os\n",
    "import textwrap\n",
    "import re\n",
    "\n",
    "#df = pd.read_csv('xx', sep='|', encoding='latin1', na_values=[], keep_default_na=False)\n"
   ]
  },
  {
   "cell_type": "code",
   "execution_count": null,
   "metadata": {},
   "outputs": [],
   "source": [
    "def wrapText(mytext):\n",
    "    textLines = mytext.split('\\n')\n",
    "    wrapedLines = []\n",
    "    _indentRe = re.compile('^(\\W+)')\n",
    "    for line in textLines:\n",
    "        preservedIndent = ''\n",
    "        existIndent = re.search(_indentRe, line)\n",
    "        if (existIndent):\n",
    "            preservedIndent = existIndent.groups()[0]\n",
    "        wrapedLines.append(textwrap.fill(line,width=80,subsequent_indent=preservedIndent))\n",
    "    text = '\\n'.join(wrapedLines)\n",
    "    return text\n",
    "\n",
    "wrapText(mystr)"
   ]
  },
  {
   "cell_type": "code",
   "execution_count": null,
   "metadata": {},
   "outputs": [],
   "source": [
    "width = 250\n",
    "height = 250\n",
    "def resizeImage(myimage):\n",
    "    return myimage.resize((width,height), Image.ANTIALIAS)"
   ]
  },
  {
   "cell_type": "code",
   "execution_count": null,
   "metadata": {},
   "outputs": [],
   "source": [
    "%%time\n",
    "\n",
    "for row in df.values:\n",
    "    img = Image.new('L', (500,500),(255))\n",
    "    d = ImageDraw.Draw(img)\n",
    "    d.text((0,0), wrapText(row[1]))\n",
    "    filename = os.path.join('yy','zz', '.png')\n",
    "    fh = open(filename, 'wb')\n",
    "    img = resizeImage(img)\n",
    "    img.save(fh)\n",
    "    fh.close()"
   ]
  },
  {
   "cell_type": "code",
   "execution_count": null,
   "metadata": {},
   "outputs": [],
   "source": []
  }
 ],
 "metadata": {
  "kernelspec": {
   "display_name": "Python 3",
   "language": "python",
   "name": "python3"
  },
  "language_info": {
   "codemirror_mode": {
    "name": "ipython",
    "version": 3
   },
   "file_extension": ".py",
   "mimetype": "text/x-python",
   "name": "python",
   "nbconvert_exporter": "python",
   "pygments_lexer": "ipython3",
   "version": "3.5.4"
  }
 },
 "nbformat": 4,
 "nbformat_minor": 1
}
