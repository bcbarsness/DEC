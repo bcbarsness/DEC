{
 "cells": [
  {
   "cell_type": "code",
   "execution_count": null,
   "metadata": {},
   "outputs": [],
   "source": [
    "import pickle\n",
    "import numpy as np\n",
    "import pandas as pd\n",
    "from matplotlib import pyplot as plt\n",
    "import matplotlib\n",
    "import gzip"
   ]
  },
  {
   "cell_type": "code",
   "execution_count": null,
   "metadata": {},
   "outputs": [],
   "source": [
    "pickle_filename = 'xx.pkl'\n",
    "\n",
    "with open(pickle_filename, 'rb') as pickle_file:\n",
    "    content = pickle.load(pickle_file)\n",
    "    "
   ]
  },
  {
   "cell_type": "code",
   "execution_count": null,
   "metadata": {},
   "outputs": [],
   "source": [
    "x, y = np.split(content['z_2d'],[-1],axis=1)\n"
   ]
  },
  {
   "cell_type": "code",
   "execution_count": null,
   "metadata": {},
   "outputs": [],
   "source": [
    "np.random.seed(1234)\n",
    "df = pd.read_csv('xx')\n",
    "p = np.random.permutation(len(df))\n",
    "narr = df['<column>'].values[p]\n"
   ]
  },
  {
   "cell_type": "code",
   "execution_count": null,
   "metadata": {},
   "outputs": [],
   "source": [
    "import sklearn as sk\n",
    "from sklearn import cluster"
   ]
  },
  {
   "cell_type": "code",
   "execution_count": null,
   "metadata": {},
   "outputs": [],
   "source": [
    "km = cluster.KMeans(n_clusters=100)\n",
    "xy = np.column_stack((x,y))\n",
    "kmlabel = km.fit_predict(xy)\n"
   ]
  },
  {
   "cell_type": "code",
   "execution_count": null,
   "metadata": {},
   "outputs": [],
   "source": [
    "plt.scatter(x,y)"
   ]
  },
  {
   "cell_type": "code",
   "execution_count": null,
   "metadata": {},
   "outputs": [],
   "source": [
    "import vega\n",
    "import altair as alt\n",
    "from vega import vegalite\n",
    "\n",
    "\n",
    "\n",
    "alt.renderers.enable(\"notebook\")\n",
    "\n",
    "data = pd.DataFrame({'x':x[:5000,0], 'y': y[:5000,0], \"description\": narr[:5000], \"kmeanlabel\": kmlabel[:5000]})\n",
    "\n",
    "alt.Chart(data).mark_circle(size=60).encode(\n",
    "    x='x',\n",
    "    y='y',\n",
    "    color=alt.Color('kmeanlabel:N', scale=alt.Scale(scheme='category20b')),\n",
    "    tooltip=['description']\n",
    "    ).interactive()\n",
    "\n"
   ]
  },
  {
   "cell_type": "code",
   "execution_count": null,
   "metadata": {},
   "outputs": [],
   "source": [
    "cmap = matplotlib.cm.get_cmap('viridis')\n",
    "normalize = matplotlib.colors.Normalize(vmin=1, vmax=9)\n",
    "colors = [cmap(normalize(value)) for value in df['color']]\n",
    "\n",
    "fix, ax = plt.subplots()\n",
    "plt.xlim(-50, 50)\n",
    "plt.ylim(-50, 50)\n",
    "ax.scatter(df['x'], df['y'], color=colors)\n",
    "cax, _ = matplotlib.colorbar.make_axes(ax)\n",
    "cbar = matplotlib.colorbar.ColorbarBase(cax, cmap=cmap, norm=normalize)\n"
   ]
  },
  {
   "cell_type": "code",
   "execution_count": null,
   "metadata": {},
   "outputs": [],
   "source": [
    "import holoviews as hv\n",
    "hv.extension('matplotlib')  # check out the other backend lib\n",
    "%output fig='svg' size=200\n",
    "ds = hv.Dataset(df)\n",
    "points = ds.to(hv.Points, ['x','y'], groupby='color').overlay()\n",
    "points.options(legend_position='right')\n",
    "\n"
   ]
  },
  {
   "cell_type": "code",
   "execution_count": null,
   "metadata": {},
   "outputs": [],
   "source": []
  }
 ],
 "metadata": {
  "kernelspec": {
   "display_name": "Python 3",
   "language": "python",
   "name": "python3"
  },
  "language_info": {
   "codemirror_mode": {
    "name": "ipython",
    "version": 3
   },
   "file_extension": ".py",
   "mimetype": "text/x-python",
   "name": "python",
   "nbconvert_exporter": "python",
   "pygments_lexer": "ipython3",
   "version": "3.5.4"
  }
 },
 "nbformat": 4,
 "nbformat_minor": 1
}
